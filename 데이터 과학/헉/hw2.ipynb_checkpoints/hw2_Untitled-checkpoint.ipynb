{
 "cells": [
  {
   "cell_type": "code",
   "execution_count": 13,
   "metadata": {},
   "outputs": [
    {
     "name": "stdout",
     "output_type": "stream",
     "text": [
      "[['physics', 98], ['calculus', 97], ['poetry', 85], ['history', 88]]\n",
      "[['physics', 98], ['calculus', 97], ['poetry', 85], ['history', 88], ['computer science', 100], ['visual arts', 93]]\n",
      "[['physics', 98], ['calculus', 97], ['poetry', 'pass'], ['history', 88], ['computer science', 100], ['visual arts', 98]]\n",
      "[['politics', 80], ['latin', 96], ['dance', 97], ['architecture', 65], ['physics', 98], ['calculus', 97], ['poetry', 'pass'], ['history', 88], ['computer science', 100], ['visual arts', 98]]\n"
     ]
    }
   ],
   "source": [
    "#1번\n",
    "subjects = [\"physics\", \"calculus\", \"poetry\", \"history\"]\n",
    "\n",
    "#2번\n",
    "grades = [98, 87, 85, 88]\n",
    "\n",
    "#3번\n",
    "gradebook = [[\"physics\",98], [\"calculus\",97], [\"poetry\",85], [\"history\",88]]\n",
    "\n",
    "#4번\n",
    "print(gradebook)\n",
    "\n",
    "#5번\n",
    "gradebook.append([\"computer science\", 100])\n",
    "\n",
    "#6번\n",
    "gradebook.append([\"visual arts\", 93])\n",
    "print(gradebook)\n",
    "\n",
    "#7번\n",
    "gradebook[5][1] = 98\n",
    "\n",
    "#8번\n",
    "gradebook.remove([\"poetry\",85])\n",
    "\n",
    "#9번\n",
    "gradebook.insert(2,[\"poetry\",\"pass\"])\n",
    "print(gradebook)\n",
    "\n",
    "#10번\n",
    "last_semester_gradebook = [[\"politics\", 80], [\"latin\", 96], [\"dance\", 97], [\"architecture\", 65]]\n",
    "full_gradebook = last_semester_gradebook + gradebook\n",
    "print(full_gradebook)\n"
   ]
  }
 ],
 "metadata": {
  "kernelspec": {
   "display_name": "Python 3",
   "language": "python",
   "name": "python3"
  },
  "language_info": {
   "codemirror_mode": {
    "name": "ipython",
    "version": 3
   },
   "file_extension": ".py",
   "mimetype": "text/x-python",
   "name": "python",
   "nbconvert_exporter": "python",
   "pygments_lexer": "ipython3",
   "version": "3.8.5"
  }
 },
 "nbformat": 4,
 "nbformat_minor": 4
}
