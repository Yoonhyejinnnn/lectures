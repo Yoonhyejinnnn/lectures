#1번
lovely_loveseat_description = 'Lovely Loveseat. Tufted polyester blend on wood. 32 inches high x 40 inches wide x 30 inches deep. Red or white.'

#2번
lovely_loveseat_price = 254.00 

#3번
stylish_settee_description = 'Stylish Settee. Faux leather on birch. 29.50 inches high x 54.75 inches wide x 28 inches deep. Black.'

#4번
stylish_settee_price = 180.50

#5번
luxurious_lamp_description = 'Luxurious Lamp. Glass and iron. 36 inches tall. Brown with cream shade.'

#6번
luxurious_lamp_price = 52.15

#7번
sales_tax = .088

#8번
customer_one_total = 0

#9번
customer_one_itemization = ""

#10번
customer_one_total = lovely_loveseat_price

#11번
customer_one_itemization = lovely_loveseat_description

#12번
customer_one_total += luxurious_lamp_price

#13번
customer_one_itemization += luxurious_lamp_description

#14번
customer_one_tax = customer_one_total

#15번
customer_one_total += (customer_one_total * sales_tax)

#16번
print("Customer One Items:")

#17번
print(customer_one_itemization)

#18번
print("Customer One Total:")

#19번
print(customer_one_total)
