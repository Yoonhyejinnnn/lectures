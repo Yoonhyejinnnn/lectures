{
 "cells": [
  {
   "cell_type": "code",
   "execution_count": 6,
   "metadata": {},
   "outputs": [
    {
     "name": "stdout",
     "output_type": "stream",
     "text": [
      "Customer One Items:\n",
      "Lovely Loveseat. Tufted polyester blend on wood. 32 inches high x 40 inches wide x 30 inches deep. Red or white.Luxurious Lamp. Glass and iron. 36 inches tall. Brown with cream shade.\n",
      "Customer One Total:\n",
      "333.09119999999996\n"
     ]
    }
   ],
   "source": [
    "#1번\n",
    "lovely_loveseat_description = 'Lovely Loveseat. Tufted polyester blend on wood. 32 inches high x 40 inches wide x 30 inches deep. Red or white.'\n",
    "\n",
    "#2번\n",
    "lovely_loveseat_price = 254.00 \n",
    "\n",
    "#3번\n",
    "stylish_settee_description = 'Stylish Settee. Faux leather on birch. 29.50 inches high x 54.75 inches wide x 28 inches deep. Black.'\n",
    "\n",
    "#4번\n",
    "stylish_settee_price = 180.50\n",
    "\n",
    "#5번\n",
    "luxurious_lamp_description = 'Luxurious Lamp. Glass and iron. 36 inches tall. Brown with cream shade.'\n",
    "\n",
    "#6번\n",
    "luxurious_lamp_price = 52.15\n",
    "\n",
    "#7번\n",
    "sales_tax = .088\n",
    "\n",
    "#8번\n",
    "customer_one_total = 0\n",
    "\n",
    "#9번\n",
    "customer_one_itemization = \"\"\n",
    "\n",
    "#10번\n",
    "customer_one_total = lovely_loveseat_price\n",
    "\n",
    "#11번\n",
    "customer_one_itemization = lovely_loveseat_description\n",
    "\n",
    "#12번\n",
    "customer_one_total += luxurious_lamp_price\n",
    "\n",
    "#13번\n",
    "customer_one_itemization += luxurious_lamp_description\n",
    "\n",
    "#14번\n",
    "customer_one_tax = customer_one_total\n",
    "\n",
    "#15번\n",
    "customer_one_total += (customer_one_total * sales_tax)\n",
    "\n",
    "#16번\n",
    "print(\"Customer One Items:\")\n",
    "\n",
    "#17번\n",
    "print(customer_one_itemization)\n",
    "\n",
    "#18번\n",
    "print(\"Customer One Total:\")\n",
    "\n",
    "#19번\n",
    "print(customer_one_total)\n",
    "\n"
   ]
  }
 ],
 "metadata": {
  "kernelspec": {
   "display_name": "Python 3",
   "language": "python",
   "name": "python3"
  },
  "language_info": {
   "codemirror_mode": {
    "name": "ipython",
    "version": 3
   },
   "file_extension": ".py",
   "mimetype": "text/x-python",
   "name": "python",
   "nbconvert_exporter": "python",
   "pygments_lexer": "ipython3",
   "version": "3.8.5"
  }
 },
 "nbformat": 4,
 "nbformat_minor": 4
}
