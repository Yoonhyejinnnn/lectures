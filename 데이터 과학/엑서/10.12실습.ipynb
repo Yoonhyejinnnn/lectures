{
 "cells": [
  {
   "cell_type": "code",
   "execution_count": 3,
   "metadata": {},
   "outputs": [],
   "source": [
    "import numpy as np"
   ]
  },
  {
   "cell_type": "code",
   "execution_count": 6,
   "metadata": {},
   "outputs": [
    {
     "name": "stdout",
     "output_type": "stream",
     "text": [
      "[0 1 2]\n",
      "[[0]\n",
      " [1]\n",
      " [2]]\n",
      "[0 1 2]\n",
      "[[0 1 2]\n",
      " [1 2 3]\n",
      " [2 3 4]]\n"
     ]
    }
   ],
   "source": [
    "#브로드캐스팅 : 다른 크기의 배열간 연산\n",
    "#(리스트에서는 먹히지 않음. 넘파이 사용)\n",
    "\n",
    "#규칙 1. 두 배열의 차원수가 다른 경우 -> 더 작은 차원의 배열에 차원을 추가\n",
    "#3 -> 1*3\n",
    "#규칙 2. 두 배열 형상이 특정 차원에서 일치하지 않은 경우 -> 해당 차원 형상이 1인 배열을 다른 배열 형상과 일치하도록 증가\n",
    "#1*3 -> 3*3\n",
    "#임의의 차원에서 크기가 일치하지 않고 1도 아닌 경우 -> 적용 불가능\n",
    "\n",
    "a = np.arange(3) #1차원 배열\n",
    "print(a)\n",
    "\n",
    "a = a[:, np.newaxis] #2차원 배열로 바꾸기\n",
    "print(a)\n",
    "\n",
    "b = np.arange(3)\n",
    "print(b)\n",
    "\n",
    "print(a+b) #조건이 맞으면 알아서 3by3으로 바뀌어 계산"
   ]
  },
  {
   "cell_type": "code",
   "execution_count": 49,
   "metadata": {},
   "outputs": [
    {
     "name": "stdout",
     "output_type": "stream",
     "text": [
      "[[1. 1. 1.]\n",
      " [1. 1. 1.]]\n",
      "[0 1 2]\n",
      "[[1. 2. 3.]\n",
      " [1. 2. 3.]]\n"
     ]
    }
   ],
   "source": [
    "a = np.ones((2,3)) \n",
    "print(a)\n",
    "b = np.arange(3) #1차원 벡터\n",
    "print(b)\n",
    "\n",
    "print(a+b)\n"
   ]
  },
  {
   "cell_type": "code",
   "execution_count": 16,
   "metadata": {},
   "outputs": [
    {
     "name": "stdout",
     "output_type": "stream",
     "text": [
      "[ True  True False False False]\n",
      "[ True  True False  True  True]\n"
     ]
    }
   ],
   "source": [
    "#배열에 대한 비교연산 -> 부울배열(또는 마스크) 출력\n",
    "x = np.array([1, 2, 3, 4, 5])\n",
    "print(x < 3)\n",
    "print(x != 3)"
   ]
  },
  {
   "cell_type": "code",
   "execution_count": 26,
   "metadata": {},
   "outputs": [
    {
     "name": "stdout",
     "output_type": "stream",
     "text": [
      "[[5 0 3 3]\n",
      " [7 9 3 5]\n",
      " [2 4 7 6]]\n",
      "True\n",
      "False\n",
      "[0 3 3 3 2 4]\n"
     ]
    }
   ],
   "source": [
    "np.random.seed(0)\n",
    "a = np.random.randint(10, size=(3,4))\n",
    "print(a)\n",
    "\n",
    "np.count_nonzero(a < 6) #TRUE를 만족하는 원소의 갯수? \n",
    "#print(np.sum(a<6))도 같음\n",
    "\n",
    "print(np.any(a > 8)) #a의 원소 중에 8보다 큰 원소가 하나라도 있는지? \n",
    "print(np.all(a > 1)) #a의 모든 원소가 1보다 큰지?\n",
    "\n",
    "#마스킹 연산 수행 : 부울 배열을 마스크로 사용하여 True를 만족하는 값들을 선택\n",
    "print(a[a<5]) #a의 원소 중 5보다 작은 원소들만 구성해 1차원 배열로 부분집합 형성\n",
    "#데이터 분석 측면에서 많이 사용. 중요.\n",
    "\n"
   ]
  },
  {
   "cell_type": "code",
   "execution_count": 35,
   "metadata": {},
   "outputs": [
    {
     "name": "stdout",
     "output_type": "stream",
     "text": [
      "[37 12 72  9 75  5 79 64 16  1]\n",
      "[72, 75, 79]\n",
      "[72 75 79]\n"
     ]
    }
   ],
   "source": [
    "#팬시 인덱싱 : 인덱스 배열을 이용한 배열 원소 접근\n",
    "#한 번에 여러 배열 원소에 접근하는 방법. 인덱스 배열을 출력\n",
    "np.random.seed(1)\n",
    "x = np.random.randint(100, size=10)\n",
    "print(x)\n",
    "\n",
    "#70대 정수 값 선택하기#\n",
    "\n",
    "a = x[2]; b = x[4]; c = x[6];\n",
    "print([a, b, c])\n",
    "\n",
    "#펜시 인덱셍 빙법\n",
    "ind = [2, 4, 6]\n",
    "print(x[ind])"
   ]
  },
  {
   "cell_type": "code",
   "execution_count": 36,
   "metadata": {},
   "outputs": [
    {
     "name": "stdout",
     "output_type": "stream",
     "text": [
      "[[8 8 6 2 8]\n",
      " [7 2 1 5 4]\n",
      " [4 5 7 3 6]]\n"
     ]
    },
    {
     "data": {
      "text/plain": [
       "array([6, 2, 6])"
      ]
     },
     "execution_count": 36,
     "metadata": {},
     "output_type": "execute_result"
    }
   ],
   "source": [
    "#다차원 배열에 대한 팬시 인덱싱\n",
    "np.random.seed(2)\n",
    "x = np.random.randint(10, size=(3,5))\n",
    "print(x)\n",
    "\n",
    "row = [0, 1, 2]\n",
    "col = [2, 1, 4]\n",
    "x[row, col] #(0,2), (1,1), (2,4) #일차원 배열 출력"
   ]
  },
  {
   "cell_type": "code",
   "execution_count": 42,
   "metadata": {},
   "outputs": [
    {
     "name": "stdout",
     "output_type": "stream",
     "text": [
      "[[8 8 6 2 8]\n",
      " [7 2 1 5 4]\n",
      " [4 5 7 3 6]]\n",
      "[[6 8 8]\n",
      " [1 2 4]\n",
      " [7 5 6]]\n",
      "[11  9 10]\n"
     ]
    }
   ],
   "source": [
    "#다차원 배열에 대한 팬시 인덱싱 + 브로드 캐스팅 = 다차원 배열\n",
    "np.random.seed(2)\n",
    "x = np.random.randint(10, size=(3,5))\n",
    "print(x)\n",
    "\n",
    "row = np.array([0, 1, 2])\n",
    "col = np.array([2, 1, 4])\n",
    "print(x[row[:, np.newaxis], col])"
   ]
  },
  {
   "cell_type": "code",
   "execution_count": 44,
   "metadata": {},
   "outputs": [
    {
     "name": "stdout",
     "output_type": "stream",
     "text": [
      "[[ 1  2  3  4]\n",
      " [ 5  6  7  8]\n",
      " [ 9 10 11 12]]\n",
      "[11  9 10]\n",
      "[[ 7  5  6]\n",
      " [11  9 10]]\n"
     ]
    }
   ],
   "source": [
    "x = np.arange(1,13).reshape(3,4)\n",
    "print(x)\n",
    "\n",
    "#기본 인덱싱 + 팬시 인덱싱\n",
    "print(x[2, [2, 0, 1]])\n",
    "\n",
    "#슬라이싱 + 팬시 인덱싱\n",
    "print(x[1:, [2, 0, 1]])"
   ]
  }
 ],
 "metadata": {
  "kernelspec": {
   "display_name": "Python 3",
   "language": "python",
   "name": "python3"
  },
  "language_info": {
   "codemirror_mode": {
    "name": "ipython",
    "version": 3
   },
   "file_extension": ".py",
   "mimetype": "text/x-python",
   "name": "python",
   "nbconvert_exporter": "python",
   "pygments_lexer": "ipython3",
   "version": "3.8.5"
  }
 },
 "nbformat": 4,
 "nbformat_minor": 4
}
