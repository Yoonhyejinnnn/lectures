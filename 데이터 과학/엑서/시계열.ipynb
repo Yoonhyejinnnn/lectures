{
 "cells": [
  {
   "cell_type": "code",
   "execution_count": 2,
   "metadata": {},
   "outputs": [],
   "source": [
    "import numpy as np\n",
    "import pandas as pd"
   ]
  },
  {
   "cell_type": "code",
   "execution_count": 6,
   "metadata": {},
   "outputs": [
    {
     "name": "stdout",
     "output_type": "stream",
     "text": [
      "2021-10-28 00:00:00\n",
      "2021-10-28 00:00:00\n"
     ]
    }
   ],
   "source": [
    "#시계열 처리\n",
    "from datetime import datetime\n",
    "t = datetime(year = 2021, month = 10, day = 28)\n",
    "print(t)\n",
    "\n",
    "from dateutil import parser\n",
    "date = parser.parse(\"28th of October, 2021\")\n",
    "print(date)"
   ]
  },
  {
   "cell_type": "code",
   "execution_count": 7,
   "metadata": {},
   "outputs": [
    {
     "data": {
      "text/plain": [
       "'Thursday'"
      ]
     },
     "execution_count": 7,
     "metadata": {},
     "output_type": "execute_result"
    }
   ],
   "source": [
    "date.strftime('%A') #데이터의 정보를 string으로 - 요일정보 : %A "
   ]
  },
  {
   "cell_type": "code",
   "execution_count": 8,
   "metadata": {},
   "outputs": [
    {
     "data": {
      "text/plain": [
       "array(['2021-10-28', '2021-10-29', '2021-10-30', '2021-10-31',\n",
       "       '2021-11-01', '2021-11-02', '2021-11-03', '2021-11-04',\n",
       "       '2021-11-05', '2021-11-06', '2021-11-07', '2021-11-08'],\n",
       "      dtype='datetime64[D]')"
      ]
     },
     "execution_count": 8,
     "metadata": {},
     "output_type": "execute_result"
    }
   ],
   "source": [
    "date = np.array('2021-10-28', dtype=np.datetime64)\n",
    "#np.datetime64('2021-10-28')도 같은 결과\n",
    "\n",
    "date + np.arange(12) #시간 배열 형성"
   ]
  },
  {
   "cell_type": "code",
   "execution_count": 10,
   "metadata": {},
   "outputs": [
    {
     "name": "stdout",
     "output_type": "stream",
     "text": [
      "2021-10-28\n",
      "2021-10-28T09:27:30.200000000\n"
     ]
    }
   ],
   "source": [
    "t = np.datetime64('2021-10-28')\n",
    "print(t)\n",
    "\n",
    "t = np.datetime64('2021-10-28 09:27:30.20', 'ns')#나노세컨즈 단위까지\n",
    "print(t)"
   ]
  },
  {
   "cell_type": "code",
   "execution_count": 14,
   "metadata": {},
   "outputs": [
    {
     "name": "stdout",
     "output_type": "stream",
     "text": [
      "2021-10-27 00:00:00\n",
      "Wednesday\n"
     ]
    },
    {
     "data": {
      "text/plain": [
       "DatetimeIndex([          '2021-10-27 00:00:00',\n",
       "               '2021-10-27 00:00:00.000000001',\n",
       "               '2021-10-27 00:00:00.000000002',\n",
       "               '2021-10-27 00:00:00.000000003',\n",
       "               '2021-10-27 00:00:00.000000004',\n",
       "               '2021-10-27 00:00:00.000000005',\n",
       "               '2021-10-27 00:00:00.000000006',\n",
       "               '2021-10-27 00:00:00.000000007',\n",
       "               '2021-10-27 00:00:00.000000008',\n",
       "               '2021-10-27 00:00:00.000000009',\n",
       "               '2021-10-27 00:00:00.000000010',\n",
       "               '2021-10-27 00:00:00.000000011'],\n",
       "              dtype='datetime64[ns]', freq=None)"
      ]
     },
     "execution_count": 14,
     "metadata": {},
     "output_type": "execute_result"
    }
   ],
   "source": [
    "#pandas\n",
    "date = pd.to_datetime(\"27th of October, 2021\")\n",
    "print(date)\n",
    "\n",
    "print(date.strftime('%A'))\n",
    "\n",
    "date + pd.to_timedelta(np.arange(12))"
   ]
  },
  {
   "cell_type": "code",
   "execution_count": 17,
   "metadata": {},
   "outputs": [
    {
     "name": "stdout",
     "output_type": "stream",
     "text": [
      "2021-10-28    0\n",
      "2021-10-29    1\n",
      "2021-10-30    2\n",
      "2021-10-31    3\n",
      "2021-11-01    4\n",
      "2021-11-02    5\n",
      "dtype: int64\n"
     ]
    }
   ],
   "source": [
    "#타임스탬프를 인덱스로 사용\n",
    "ind = pd.DatetimeIndex(['2021-10-28','2021-10-29','2021-10-30','2021-10-31',\n",
    "                       '2021-11-01','2021-11-02'])\n",
    "\n",
    "ser = pd.Series([0,1,2,3,4,5], index=ind)\n",
    "print(ser)"
   ]
  },
  {
   "cell_type": "code",
   "execution_count": 18,
   "metadata": {},
   "outputs": [
    {
     "name": "stdout",
     "output_type": "stream",
     "text": [
      "2021-10-28    0\n",
      "2021-10-29    1\n",
      "2021-10-30    2\n",
      "2021-10-31    3\n",
      "dtype: int64\n"
     ]
    }
   ],
   "source": [
    "#인덱싱 가능\n",
    "print(ser['2021-10'])"
   ]
  },
  {
   "cell_type": "code",
   "execution_count": 23,
   "metadata": {},
   "outputs": [
    {
     "name": "stdout",
     "output_type": "stream",
     "text": [
      "DatetimeIndex(['2015-07-03', '2015-07-04', '2015-07-06', '2015-09-09',\n",
      "               '2015-07-08'],\n",
      "              dtype='datetime64[ns]', freq=None)\n",
      "PeriodIndex(['2015-07-03', '2015-07-04', '2015-07-06', '2015-09-09',\n",
      "             '2015-07-08'],\n",
      "            dtype='period[D]', freq='D')\n",
      "\n",
      "\n",
      "PeriodIndex(['2015-06-29/2015-07-05', '2015-06-29/2015-07-05',\n",
      "             '2015-07-06/2015-07-12', '2015-09-07/2015-09-13',\n",
      "             '2015-07-06/2015-07-12'],\n",
      "            dtype='period[W-SUN]', freq='W-SUN')\n"
     ]
    }
   ],
   "source": [
    "dates = pd.to_datetime([datetime(2015,7,3),\n",
    "                       \"4th of July, 2015\",\n",
    "                       '2015-Jul-6',\n",
    "                       '09-09-2015',\n",
    "                       '20150708'])\n",
    "print(dates)\n",
    "\n",
    "print(dates.to_period('D'))# D : 일별로\n",
    "print('\\n')\n",
    "print(dates.to_period('W'))# D : 주별로\n"
   ]
  },
  {
   "cell_type": "code",
   "execution_count": 26,
   "metadata": {},
   "outputs": [
    {
     "data": {
      "text/plain": [
       "DatetimeIndex(['2021-10-27', '2021-10-28', '2021-10-29', '2021-10-30',\n",
       "               '2021-10-31'],\n",
       "              dtype='datetime64[ns]', freq='D')"
      ]
     },
     "execution_count": 26,
     "metadata": {},
     "output_type": "execute_result"
    }
   ],
   "source": [
    "pd.date_range('2021-10-27','2021-10-31')"
   ]
  },
  {
   "cell_type": "code",
   "execution_count": 27,
   "metadata": {},
   "outputs": [
    {
     "data": {
      "text/plain": [
       "DatetimeIndex(['2020-10-27', '2020-10-28', '2020-10-29', '2020-10-30',\n",
       "               '2020-10-31'],\n",
       "              dtype='datetime64[ns]', freq='D')"
      ]
     },
     "execution_count": 27,
     "metadata": {},
     "output_type": "execute_result"
    }
   ],
   "source": [
    "pd.date_range('2020-10-27', periods=5)"
   ]
  },
  {
   "cell_type": "code",
   "execution_count": 33,
   "metadata": {},
   "outputs": [
    {
     "data": {
      "text/plain": [
       "DatetimeIndex(['2021-10-27 00:00:00', '2021-10-27 01:00:00',\n",
       "               '2021-10-27 02:00:00', '2021-10-27 03:00:00',\n",
       "               '2021-10-27 04:00:00', '2021-10-27 05:00:00',\n",
       "               '2021-10-27 06:00:00', '2021-10-27 07:00:00',\n",
       "               '2021-10-27 08:00:00', '2021-10-27 09:00:00',\n",
       "               '2021-10-27 10:00:00', '2021-10-27 11:00:00'],\n",
       "              dtype='datetime64[ns]', freq='H')"
      ]
     },
     "execution_count": 33,
     "metadata": {},
     "output_type": "execute_result"
    }
   ],
   "source": [
    "pd.date_range('2021-10-27', periods = 12, freq='H')"
   ]
  }
 ],
 "metadata": {
  "kernelspec": {
   "display_name": "Python 3",
   "language": "python",
   "name": "python3"
  },
  "language_info": {
   "codemirror_mode": {
    "name": "ipython",
    "version": 3
   },
   "file_extension": ".py",
   "mimetype": "text/x-python",
   "name": "python",
   "nbconvert_exporter": "python",
   "pygments_lexer": "ipython3",
   "version": "3.8.5"
  }
 },
 "nbformat": 4,
 "nbformat_minor": 4
}
