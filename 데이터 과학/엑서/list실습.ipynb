{
 "cells": [
  {
   "cell_type": "code",
   "execution_count": 2,
   "metadata": {},
   "outputs": [],
   "source": [
    "import numpy as np"
   ]
  },
  {
   "cell_type": "code",
   "execution_count": 6,
   "metadata": {},
   "outputs": [
    {
     "name": "stdout",
     "output_type": "stream",
     "text": [
      "[[5 8 9 5 0 0 1 7]\n",
      " [6 9 2 4 5 2 4 2]\n",
      " [4 7 7 9 1 7 0 6]\n",
      " [9 9 7 6 9 1 0 1]\n",
      " [8 8 3 9 8 7 3 6]\n",
      " [5 1 9 3 4 8 1 4]]\n",
      "[[5 8 9]\n",
      " [6 9 2]]\n",
      "[[5 9 0 1]\n",
      " [6 2 5 4]\n",
      " [4 7 1 0]]\n"
     ]
    }
   ],
   "source": [
    "np.random.seed(1)\n",
    "arr = np.random.randint(10, size=(6,8))\n",
    "print(arr)\n",
    "\n",
    "print(arr[:2, :3]) #[행의start:stop:step, 열의start:stop:step]\n",
    "print(arr[:3, ::2])"
   ]
  },
  {
   "cell_type": "code",
   "execution_count": 15,
   "metadata": {},
   "outputs": [
    {
     "name": "stdout",
     "output_type": "stream",
     "text": [
      "[[99  8]\n",
      " [ 6  9]]\n",
      "[[99  8  9  5  0  0  1  7]\n",
      " [ 6  9  2  4  5  2  4  2]\n",
      " [ 4  7  7  9  1  7  0  6]\n",
      " [ 9  9  7  6  9  1  0  1]\n",
      " [ 8  8  3  9  8  7  3  6]\n",
      " [ 5  1  9  3  4  8  1  4]]\n",
      "\n",
      "\n",
      "[[99  8]\n",
      " [ 6  9]]\n",
      "[[100   8]\n",
      " [  6   9]]\n",
      "[[99  8  9  5  0  0  1  7]\n",
      " [ 6  9  2  4  5  2  4  2]\n",
      " [ 4  7  7  9  1  7  0  6]\n",
      " [ 9  9  7  6  9  1  0  1]\n",
      " [ 8  8  3  9  8  7  3  6]\n",
      " [ 5  1  9  3  4  8  1  4]]\n"
     ]
    }
   ],
   "source": [
    "#배열 슬라이스 값을 변경하면 원본 배열 값도 변경된(!!!!리스트는 x!!!!)\n",
    "\n",
    "arr_sub = arr[:2, :2]\n",
    "print(arr_sub)\n",
    "\n",
    "arr_sub[0,0] = 99 #배열 슬라이스 값 변경\n",
    "print(arr) #원본 배열 값이 변경됨\n",
    "print('\\n')\n",
    "\n",
    "#복사본으로 만드려면 .copy()사용\n",
    "arr_sup2 = arr[:2, :2].copy()\n",
    "print(arr_sup2)\n",
    "arr_sup2[0,0] = 100 \n",
    "print(arr_sup2)\n",
    "print(arr) #원본은 변하지 않음"
   ]
  },
  {
   "cell_type": "code",
   "execution_count": 17,
   "metadata": {},
   "outputs": [
    {
     "name": "stdout",
     "output_type": "stream",
     "text": [
      "[[1 2 3]\n",
      " [4 5 6]\n",
      " [7 8 9]]\n"
     ]
    }
   ],
   "source": [
    "#배열 형성 메소드 arr.reshape()\n",
    "\n",
    "arr = np.array([1,2,3,4,5,6,7,8,9]) #벡터\n",
    "grid = arr.reshape(3, 3) #변경 전/후의 배열 크기가 동일해야 함\n",
    "print(grid) #3*3배열로 바꾸기"
   ]
  },
  {
   "cell_type": "code",
   "execution_count": 25,
   "metadata": {},
   "outputs": [
    {
     "name": "stdout",
     "output_type": "stream",
     "text": [
      "[1 2 3 4 5 6 7 8 9]\n",
      "[[1 2 3]\n",
      " [4 5 6]\n",
      " [7 8 9]]\n",
      "\n",
      "\n",
      "[[1 2 3 1 2 3]\n",
      " [4 5 6 4 5 6]\n",
      " [7 8 9 7 8 9]]\n",
      "\n",
      "\n",
      "[[1 2 3]\n",
      " [4 5 6]\n",
      " [7 8 9]\n",
      " [1 2 3]\n",
      " [4 5 6]\n",
      " [7 8 9]]\n"
     ]
    }
   ],
   "source": [
    "#배열 결합\n",
    "arr_1 = np.array([1,2,3])\n",
    "arr_2 = np.array([4,5,6])\n",
    "arr_3 = np.array([7,8,9])\n",
    "\n",
    "arr_total = np.concatenate([arr_1, arr_2, arr_3])\n",
    "print(arr_total)\n",
    "\n",
    "#np.vstack() 종방향으로 배열 연결\n",
    "#np.hstack() 횡방향으로 배열 연결\n",
    "arr_total = np.vstack([arr_1, arr_2, arr_3])\n",
    "print(arr_total)\n",
    "print('\\n')\n",
    "\n",
    "print(np.hstack([arr_total, arr_total]))\n",
    "print('\\n')\n",
    "print(np.concatenate([arr_total, arr_total]))"
   ]
  },
  {
   "cell_type": "code",
   "execution_count": 26,
   "metadata": {},
   "outputs": [
    {
     "name": "stdout",
     "output_type": "stream",
     "text": [
      "[1 2 3]\n",
      "[99 99]\n",
      "[3 2 1]\n"
     ]
    }
   ],
   "source": [
    "#np.split(), np.vsplit(), np.hsplit(): 배열 분할 메소드\n",
    "arr = np.array([1,2,3,99,99,3,2,1])\n",
    "arr_1, arr_2, arr_3 = np.split(arr, [3, 5])\n",
    "print(arr_1)\n",
    "print(arr_2)\n",
    "print(arr_3)"
   ]
  }
 ],
 "metadata": {
  "kernelspec": {
   "display_name": "Python 3",
   "language": "python",
   "name": "python3"
  },
  "language_info": {
   "codemirror_mode": {
    "name": "ipython",
    "version": 3
   },
   "file_extension": ".py",
   "mimetype": "text/x-python",
   "name": "python",
   "nbconvert_exporter": "python",
   "pygments_lexer": "ipython3",
   "version": "3.8.5"
  }
 },
 "nbformat": 4,
 "nbformat_minor": 4
}
