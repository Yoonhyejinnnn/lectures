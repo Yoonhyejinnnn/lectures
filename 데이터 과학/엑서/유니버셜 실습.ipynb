{
 "cells": [
  {
   "cell_type": "code",
   "execution_count": 11,
   "metadata": {},
   "outputs": [],
   "source": [
    "import numpy as np"
   ]
  },
  {
   "cell_type": "code",
   "execution_count": 13,
   "metadata": {},
   "outputs": [
    {
     "name": "stdout",
     "output_type": "stream",
     "text": [
      "[5 8 9 5 0] [0 1 7 6 9]\n",
      "[ 3  6  7  3 -2]\n",
      "[ 3  7 14  9  7]\n",
      "[[2 4 5 2 4]\n",
      " [2 4 7 7 9]\n",
      " [1 7 0 6 9]]\n",
      "[[ 4 16 25  4 16]\n",
      " [ 4 16 49 49 81]\n",
      " [ 1 49  0 36 81]]\n"
     ]
    }
   ],
   "source": [
    "#numpy함수의 유니버셜 연산 \n",
    "\n",
    "np.random.seed(1)\n",
    "arr1 = np.random.randint(10, size=(5))\n",
    "arr2 = np.random.randint(10, size=(5))\n",
    "print(arr1, arr2)\n",
    "\n",
    "arr1 = arr1 - 2 #배열과 스칼라의 연산\n",
    "print(arr1)\n",
    "\n",
    "arr3 = arr1 + arr2\n",
    "print(arr3) #배열과 배열의 연산\n",
    "\n",
    "arr4 = np.random.randint(10, size=(3,5))\n",
    "print(arr4)\n",
    "\n",
    "arr5 = arr4 ** 2 #다차원 배열의 연산\n",
    "print(arr5)"
   ]
  },
  {
   "cell_type": "code",
   "execution_count": 29,
   "metadata": {},
   "outputs": [
    {
     "name": "stdout",
     "output_type": "stream",
     "text": [
      "[2 1 0 1 2]\n",
      "[5. 5. 2. 1.]\n",
      "[  0.  25.  50.  75. 100.]\n",
      "[0.         1.57079633 3.14159265]\n",
      "[0.0000000e+00 1.0000000e+00 1.2246468e-16]\n",
      "[ 1.000000e+00  6.123234e-17 -1.000000e+00]\n",
      "[ 0.00000000e+00  1.63312394e+16 -1.22464680e-16]\n",
      "10\n",
      "24\n",
      "[1 2 3 4]\n",
      "[ 1  3  6 10]\n",
      "[ 1  2  6 24]\n"
     ]
    },
    {
     "data": {
      "text/plain": [
       "54.63174026883457"
      ]
     },
     "execution_count": 29,
     "metadata": {},
     "output_type": "execute_result"
    }
   ],
   "source": [
    "#유니버셜 함수들 \n",
    "#np.abs() :절대값 함수\n",
    "x = np.array([-2, -1, 0, 1, 2])\n",
    "print(np.abs(x))\n",
    "\n",
    "x = np.array([3-4j, 4-3j, 2+0j, 0+1j]) #복수수의 절대값도 제공\n",
    "print(np.abs(x))\n",
    "\n",
    "\n",
    "#np.linspace(start, stop, num): 선형 간격의 벡터 생성\n",
    "y = np.linspace(0, 100, 5) #0과 100 사이의 간격을 5개로 쪼갠다\n",
    "print(y)\n",
    "\n",
    "theta = np.linspace(0, np.pi, 3)\n",
    "print(theta)\n",
    "print(np.sin(theta))\n",
    "print(np.cos(theta))\n",
    "print(np.tan(theta))\n",
    "\n",
    "#지수와 로그 연산 : np.exp() np.power() 와 np.log() np.log10()\n",
    "\n",
    "\n",
    "#집계 함수 제공 : reduce() 배열을 특정 연산으로 축소, 결과가 스칼라 값.\n",
    "x = np.arange(1, 5)\n",
    "\n",
    "aggr = np.add.reduce(x)\n",
    "print(aggr)\n",
    "\n",
    "aggr = np.multiply.reduce(x)\n",
    "print(aggr)\n",
    "\n",
    "\n",
    "#accumulate() : 계산의 중간 결과들을 배열로 저장\n",
    "x = np.arange(1, 5)\n",
    "print(x)\n",
    "\n",
    "accum = np.add.accumulate(x)\n",
    "print(accum)\n",
    "\n",
    "accum = np.multiply.accumulate(x)\n",
    "print(accum)"
   ]
  },
  {
   "cell_type": "code",
   "execution_count": 31,
   "metadata": {},
   "outputs": [
    {
     "name": "stdout",
     "output_type": "stream",
     "text": [
      "[[3 6 6 0]\n",
      " [9 8 4 7]\n",
      " [0 0 7 1]]\n",
      "[12 14 17  8]\n"
     ]
    },
    {
     "data": {
      "text/plain": [
       "array([15, 28,  8])"
      ]
     },
     "execution_count": 31,
     "metadata": {},
     "output_type": "execute_result"
    }
   ],
   "source": [
    "#배열 합계 계산: np.sum() 파이썬 내장함수 sum()보다 훨씬 빠름\n",
    "arr = np.random.rand(100) # rand() : create 0~1 real values \n",
    "np.sum(arr)\n",
    "\n",
    "#np.max() np.min() np.median() np.mean() 괄호 안에 배열 이름  \n",
    "#np.argmax()최대값의 인덱스 값 \n",
    "#np.argmin()최솟값의 인덱스 값\n",
    "#np.percentile() 하위 %의 원소 np.percentile(x, 25)하면 배열 x의 하위 25%값 출력\n",
    "#np.any(arr>1) #배열원소 중 하나라도 1보다 큰 지\n",
    "#np.all(arr>0) #배열원소 모두 0보다 큰 지 \n",
    "\n",
    "#다차원 집계 : axis 속성\n",
    "np.random.seed(5)\n",
    "arr = np.random.randint(10, size=(3,4))\n",
    "print(arr)\n",
    "\n",
    "print(np.sum(arr, axis = 0)) #세로방향으로 집계, 열별로\n",
    "print(np.sum(arr, axis = 1)) #가로방향으로 집계, 행별로"
   ]
  }
 ],
 "metadata": {
  "kernelspec": {
   "display_name": "Python 3",
   "language": "python",
   "name": "python3"
  },
  "language_info": {
   "codemirror_mode": {
    "name": "ipython",
    "version": 3
   },
   "file_extension": ".py",
   "mimetype": "text/x-python",
   "name": "python",
   "nbconvert_exporter": "python",
   "pygments_lexer": "ipython3",
   "version": "3.8.5"
  }
 },
 "nbformat": 4,
 "nbformat_minor": 4
}
