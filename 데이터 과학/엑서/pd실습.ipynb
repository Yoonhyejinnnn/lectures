{
 "cells": [
  {
   "cell_type": "code",
   "execution_count": 2,
   "metadata": {},
   "outputs": [],
   "source": [
    "import pandas as pd\n",
    "import numpy as np"
   ]
  },
  {
   "cell_type": "code",
   "execution_count": 3,
   "metadata": {},
   "outputs": [
    {
     "name": "stdout",
     "output_type": "stream",
     "text": [
      "0    0.25\n",
      "1    0.50\n",
      "2    0.75\n",
      "3    1.00\n",
      "dtype: float64\n",
      "[0.25 0.5  0.75 1.  ]\n",
      "RangeIndex(start=0, stop=4, step=1)\n",
      "\n",
      "\n",
      "a    0.25\n",
      "b    0.50\n",
      "c    0.75\n",
      "d    1.00\n",
      "dtype: float64\n",
      "Index(['a', 'b', 'c', 'd'], dtype='object')\n"
     ]
    }
   ],
   "source": [
    "#Series : 인덱싱된 1차원 배열\n",
    "\n",
    "ser = pd.Series([0.25, 0.5, 0.75, 1.0])\n",
    "print(ser)\n",
    "\n",
    "arr = ser.values\n",
    "print(arr) #numpy배열로 반환\n",
    "\n",
    "ind = ser.index\n",
    "print(ind)\n",
    "\n",
    "print('\\n')\n",
    "\n",
    "ser = pd.Series([0.25, 0.5, 0.75, 1.0], index = ['a', 'b', 'c', 'd'])\n",
    "print(ser)\n",
    "\n",
    "ind = ser.index\n",
    "print(ind)#index클래스의 객체"
   ]
  },
  {
   "cell_type": "code",
   "execution_count": 4,
   "metadata": {},
   "outputs": [
    {
     "name": "stdout",
     "output_type": "stream",
     "text": [
      "{'a': 1, 2: 'two', 'third': True}\n"
     ]
    }
   ],
   "source": [
    "#Dictionary : <Key : Value>로 구성되는 자료구조\n",
    "\n",
    "dict = {'a': 1, 2: 'two', 'third': True}\n",
    "print(dict)"
   ]
  },
  {
   "cell_type": "code",
   "execution_count": 8,
   "metadata": {},
   "outputs": [
    {
     "name": "stdout",
     "output_type": "stream",
     "text": [
      "California    38332521\n",
      "Texas         26448193\n",
      "New York      19651127\n",
      "dtype: int64\n"
     ]
    }
   ],
   "source": [
    "#Series : Key 역할을 하는 레이블 기반 인덱스 사용\n",
    "#Dictionary와 달리 슬라이싱 같은 배열 연산 지원 \n",
    "population_dict = {'California': 38332521,\n",
    "'Texas': 26448193,\n",
    "\"New York\": 19651127,\n",
    "'Florida': 19552860,\n",
    "'Illinois': 12882135}\n",
    "\n",
    "population = pd.Series(population_dict)\n",
    "\n",
    "print(population['California':'New York'])"
   ]
  },
  {
   "cell_type": "code",
   "execution_count": 9,
   "metadata": {},
   "outputs": [
    {
     "name": "stdout",
     "output_type": "stream",
     "text": [
      "            population    area\n",
      "California    38332521  423967\n",
      "Texas         26448193  695662\n",
      "New York      19651127  141297\n",
      "Florida       19552860  170312\n",
      "Illinois      12882135  149995\n"
     ]
    }
   ],
   "source": [
    "area_dict = {'California': 423967,'Texas': 695662, 'New York': 141297,\n",
    "'Florida': 170312, 'Illinois': 149995}\n",
    "area = pd.Series(area_dict)\n",
    "\n",
    "states = pd.DataFrame({'population': population, 'area': area})\n",
    "\n",
    "print(states)"
   ]
  },
  {
   "cell_type": "code",
   "execution_count": 15,
   "metadata": {},
   "outputs": [
    {
     "name": "stdout",
     "output_type": "stream",
     "text": [
      "Index(['California', 'Texas', 'New York', 'Florida', 'Illinois'], dtype='object')\n",
      "Index(['population', 'area'], dtype='object')\n"
     ]
    }
   ],
   "source": [
    "print(states.index) #인덱스 레이블 접근\n",
    "print(states.columns) #DataFrame열 접근"
   ]
  },
  {
   "cell_type": "code",
   "execution_count": 17,
   "metadata": {},
   "outputs": [
    {
     "name": "stdout",
     "output_type": "stream",
     "text": [
      "[[0.67582744 0.17920447]\n",
      " [0.19944113 0.25209226]\n",
      " [0.42508208 0.49606652]] \n",
      "\n"
     ]
    },
    {
     "data": {
      "text/html": [
       "<div>\n",
       "<style scoped>\n",
       "    .dataframe tbody tr th:only-of-type {\n",
       "        vertical-align: middle;\n",
       "    }\n",
       "\n",
       "    .dataframe tbody tr th {\n",
       "        vertical-align: top;\n",
       "    }\n",
       "\n",
       "    .dataframe thead th {\n",
       "        text-align: right;\n",
       "    }\n",
       "</style>\n",
       "<table border=\"1\" class=\"dataframe\">\n",
       "  <thead>\n",
       "    <tr style=\"text-align: right;\">\n",
       "      <th></th>\n",
       "      <th>foo</th>\n",
       "      <th>bar</th>\n",
       "    </tr>\n",
       "  </thead>\n",
       "  <tbody>\n",
       "    <tr>\n",
       "      <th>a</th>\n",
       "      <td>0.675827</td>\n",
       "      <td>0.179204</td>\n",
       "    </tr>\n",
       "    <tr>\n",
       "      <th>b</th>\n",
       "      <td>0.199441</td>\n",
       "      <td>0.252092</td>\n",
       "    </tr>\n",
       "    <tr>\n",
       "      <th>c</th>\n",
       "      <td>0.425082</td>\n",
       "      <td>0.496067</td>\n",
       "    </tr>\n",
       "  </tbody>\n",
       "</table>\n",
       "</div>"
      ],
      "text/plain": [
       "        foo       bar\n",
       "a  0.675827  0.179204\n",
       "b  0.199441  0.252092\n",
       "c  0.425082  0.496067"
      ]
     },
     "execution_count": 17,
     "metadata": {},
     "output_type": "execute_result"
    }
   ],
   "source": [
    "arr = np.random.rand(3,2)\n",
    "print(arr,'\\n')\n",
    "\n",
    "pd.DataFrame(arr, columns=['foo', 'bar'], index=['a', 'b', 'c'])"
   ]
  },
  {
   "cell_type": "code",
   "execution_count": 25,
   "metadata": {},
   "outputs": [
    {
     "name": "stdout",
     "output_type": "stream",
     "text": [
      "0.5\n",
      "True\n",
      "Index(['a', 'b', 'c', 'd'], dtype='object')\n"
     ]
    }
   ],
   "source": [
    "#Series 객체 조작 : Dictionary스타일\n",
    "\n",
    "print(ser['b'])\n",
    "print('a' in ser) #ser라는 객체 안에 a라는 Key가 있냐\n",
    "print(ser.keys())"
   ]
  },
  {
   "cell_type": "code",
   "execution_count": 16,
   "metadata": {},
   "outputs": [
    {
     "name": "stdout",
     "output_type": "stream",
     "text": [
      "a      0.125\n",
      "b        0.5\n",
      "c       0.75\n",
      "d          1\n",
      "e    (1, 25)\n",
      "dtype: object\n",
      "a    0.125\n",
      "b      0.5\n",
      "c     0.75\n",
      "dtype: object\n",
      "a      0.125\n",
      "e    (1, 25)\n",
      "dtype: object\n"
     ]
    }
   ],
   "source": [
    "ser['e'] = 1,25\n",
    "ser['a'] = 0.125\n",
    "print(ser)\n",
    "\n",
    "print(ser['a':'c']) #슬라이싱 \n",
    "print(ser[['a', 'e']]) #팬시 인덱싱\n",
    "#명시적 인덱싱 -> 마지막 인덱스 값 포함\n",
    "#암묵적 인덱싱 -> 마지막 인덱스 앞 값까지 포함 "
   ]
  },
  {
   "cell_type": "code",
   "execution_count": 21,
   "metadata": {},
   "outputs": [
    {
     "name": "stdout",
     "output_type": "stream",
     "text": [
      "California    423967\n",
      "Texas         695662\n",
      "New York      141297\n",
      "Florida       170312\n",
      "Illinois      149995\n",
      "Name: area, dtype: int64\n",
      "California    423967\n",
      "Texas         695662\n",
      "New York      141297\n",
      "Florida       170312\n",
      "Illinois      149995\n",
      "Name: area, dtype: int64\n"
     ]
    }
   ],
   "source": [
    "#DataFrame 객체 조작 , 방법 2가지\n",
    "print(states['area']) #더 활용적 \n",
    "print(states.area)\n"
   ]
  },
  {
   "cell_type": "code",
   "execution_count": 25,
   "metadata": {},
   "outputs": [
    {
     "name": "stdout",
     "output_type": "stream",
     "text": [
      "            population    area     density\n",
      "California    38332521  423967   90.413926\n",
      "Texas         26448193  695662   38.018740\n",
      "New York      19651127  141297  139.076746\n",
      "Florida       19552860  170312  114.806121\n",
      "Illinois      12882135  149995   85.883763\n"
     ]
    }
   ],
   "source": [
    "#Series 객체 추가 \n",
    "\n",
    "states['density'] = states['population'] / states['area']\n",
    "print(states)"
   ]
  },
  {
   "cell_type": "code",
   "execution_count": 42,
   "metadata": {},
   "outputs": [
    {
     "name": "stdout",
     "output_type": "stream",
     "text": [
      "a    0.125\n",
      "b      0.5\n",
      "dtype: object\n",
      "0.5\n",
      "a    0.125\n",
      "b      0.5\n",
      "dtype: object\n"
     ]
    }
   ],
   "source": [
    "#loc : '명시적' 인덱스를 참조하는 \n",
    "\n",
    "print(ser.loc['a':'b'])\n",
    "\n",
    "#iloc : '암묵적' 인덱스를 참조하는\n",
    "print(ser.iloc[1])\n",
    "print(ser.iloc[0:2])"
   ]
  },
  {
   "cell_type": "code",
   "execution_count": 27,
   "metadata": {},
   "outputs": [
    {
     "data": {
      "text/html": [
       "<div>\n",
       "<style scoped>\n",
       "    .dataframe tbody tr th:only-of-type {\n",
       "        vertical-align: middle;\n",
       "    }\n",
       "\n",
       "    .dataframe tbody tr th {\n",
       "        vertical-align: top;\n",
       "    }\n",
       "\n",
       "    .dataframe thead th {\n",
       "        text-align: right;\n",
       "    }\n",
       "</style>\n",
       "<table border=\"1\" class=\"dataframe\">\n",
       "  <thead>\n",
       "    <tr style=\"text-align: right;\">\n",
       "      <th></th>\n",
       "      <th>population</th>\n",
       "      <th>density</th>\n",
       "    </tr>\n",
       "  </thead>\n",
       "  <tbody>\n",
       "    <tr>\n",
       "      <th>New York</th>\n",
       "      <td>19651127</td>\n",
       "      <td>139.076746</td>\n",
       "    </tr>\n",
       "    <tr>\n",
       "      <th>Florida</th>\n",
       "      <td>19552860</td>\n",
       "      <td>114.806121</td>\n",
       "    </tr>\n",
       "  </tbody>\n",
       "</table>\n",
       "</div>"
      ],
      "text/plain": [
       "          population     density\n",
       "New York    19651127  139.076746\n",
       "Florida     19552860  114.806121"
      ]
     },
     "execution_count": 27,
     "metadata": {},
     "output_type": "execute_result"
    }
   ],
   "source": [
    "#loc 인덱서: 마스킹 + 팬시 인덱싱 지원\n",
    "states.loc[states.density > 100, ['population', 'density']]"
   ]
  }
 ],
 "metadata": {
  "kernelspec": {
   "display_name": "Python 3",
   "language": "python",
   "name": "python3"
  },
  "language_info": {
   "codemirror_mode": {
    "name": "ipython",
    "version": 3
   },
   "file_extension": ".py",
   "mimetype": "text/x-python",
   "name": "python",
   "nbconvert_exporter": "python",
   "pygments_lexer": "ipython3",
   "version": "3.8.5"
  }
 },
 "nbformat": 4,
 "nbformat_minor": 4
}
